{
 "cells": [
  {
   "cell_type": "code",
   "execution_count": 54,
   "metadata": {},
   "outputs": [],
   "source": [
    "# Instrucciones para implementar un sistema RAG con Langchain y ChromaDB\n",
    "\n",
    "# Paso 1: Instalar las dependencias necesarias\n",
    "# Ejecuta el siguiente comando en tu terminal o entorno virtual para instalar las bibliotecas requeridas:\n",
    "# pip install langchain chromadb openai requests pandas textblob\n",
    "\n",
    "import pandas as pd\n",
    "from langchain.vectorstores import Chroma\n",
    "from langchain_openai import OpenAI, OpenAIEmbeddings\n",
    "from langchain.agents import Tool, initialize_agent\n",
    "from langchain.prompts import PromptTemplate\n",
    "from langchain.agents import AgentType\n",
    "import openai\n",
    "from textblob import TextBlob\n",
    "import requests"
   ]
  },
  {
   "cell_type": "code",
   "execution_count": 55,
   "metadata": {},
   "outputs": [],
   "source": [
    "# Configura tu clave de API de OpenAI\n",
    "OPENAI_API_KEY = \"\"  # Reemplaza con tu clave de API válida"
   ]
  },
  {
   "cell_type": "code",
   "execution_count": 56,
   "metadata": {},
   "outputs": [],
   "source": [
    "# Paso 2: Cargar el archivo CSV y preparar los datos\n",
    "file_path = \"hidrogeno_verde.csv\"  # Ajusta la ruta\n",
    "hidrogeno_df = pd.read_csv(file_path)"
   ]
  },
  {
   "cell_type": "code",
   "execution_count": 57,
   "metadata": {},
   "outputs": [],
   "source": [
    "# Preparar los documentos para ChromaDB\n",
    "documents = hidrogeno_df[['text', 'title', 'date', 'url', 'media_outlet']].copy()\n",
    "documents['content'] = documents['title'] + \" \" + documents['text']\n",
    "documents['metadata'] = documents[['date', 'url', 'media_outlet']].to_dict(orient='records')\n",
    "texts = documents['content'].tolist()\n",
    "metadatas = documents['metadata'].tolist()"
   ]
  },
  {
   "cell_type": "code",
   "execution_count": 58,
   "metadata": {},
   "outputs": [],
   "source": [
    "# Paso 3: Inicializar ChromaDB\n",
    "embeddings = OpenAIEmbeddings(openai_api_key=OPENAI_API_KEY)\n",
    "chroma_db = Chroma.from_texts(texts=texts, metadatas=metadatas, embedding=embeddings, persist_directory=\"./chromadb_hidrogeno\")"
   ]
  },
  {
   "cell_type": "code",
   "execution_count": 59,
   "metadata": {},
   "outputs": [],
   "source": [
    "# Paso 4: Definir herramientas\n",
    "\n",
    "def search_chromadb(query):\n",
    "    results = chroma_db.similarity_search(query, k=3)  # Reducir el número de documentos devueltos\n",
    "    return \"\\n\".join([str(result.metadata) + \"\\n\" + result.page_content[:500] for result in results])\n",
    "\n",
    "def wikipedia_search(query):\n",
    "    response = requests.get(\"https://es.wikipedia.org/w/api.php\", params={\n",
    "        \"action\": \"query\",\n",
    "        \"format\": \"json\",\n",
    "        \"titles\": query,\n",
    "        \"prop\": \"extracts\",\n",
    "        \"exintro\": True\n",
    "    })\n",
    "    pages = response.json().get('query', {}).get('pages', {})\n",
    "    page = next(iter(pages.values()), {})\n",
    "    return page.get('extract', \"No se encontró información en Wikipedia.\")\n",
    "\n",
    "def sentiment_analysis(query):\n",
    "    blob = TextBlob(query)\n",
    "    polarity = blob.sentiment.polarity\n",
    "    if polarity > 0:\n",
    "        return \"El sentimiento es positivo.\"\n",
    "    elif polarity < 0:\n",
    "        return \"El sentimiento es negativo.\"\n",
    "    else:\n",
    "        return \"El sentimiento es neutral.\"\n",
    "\n",
    "def math_tool(query):\n",
    "    try:\n",
    "        result = eval(query)\n",
    "        return f\"El resultado del cálculo es: {result}\"\n",
    "    except Exception as e:\n",
    "        return f\"No pude resolver el cálculo: {e}\"\n",
    "\n",
    "def filter_by_dates(start_date, end_date):\n",
    "    filtered = hidrogeno_df[(hidrogeno_df['date'] >= start_date) & (hidrogeno_df['date'] <= end_date)]\n",
    "    return filtered[['title', 'text', 'date']].to_dict(orient='records')\n",
    "\n",
    "def count_people_mentions(news_list):\n",
    "    from collections import Counter\n",
    "    import re\n",
    "    mentions = []\n",
    "    for news in news_list:\n",
    "        mentions.extend(re.findall(r'\\b[A-Z][a-z]+\\s[A-Z][a-z]+\\b', news['text']))\n",
    "    return Counter(mentions).most_common()\n",
    "\n",
    "def filter_news_by_person(news_list, person_name):\n",
    "    filtered_news = [news for news in news_list if person_name in news['text']]\n",
    "    return filtered_news\n",
    "\n",
    "def extract_personal_data_from_news(news_list, person_name):\n",
    "    relevant_texts = [news['text'][:500] for news in news_list if person_name in news['text']]  # Limitar longitud del texto devuelto\n",
    "    return \"\\n\".join(relevant_texts)\n"
   ]
  },
  {
   "cell_type": "code",
   "execution_count": 60,
   "metadata": {},
   "outputs": [],
   "source": [
    "# Crear herramientas\n",
    "\n",
    "tools = [\n",
    "    Tool(\n",
    "        name=\"ChromaDB Search\",\n",
    "        func=search_chromadb,\n",
    "        description=\"Busca en la base de datos de ChromaDB los documentos relevantes.\"\n",
    "    ),\n",
    "    Tool(\n",
    "        name=\"Wikipedia Search\",\n",
    "        func=wikipedia_search,\n",
    "        description=\"Consulta Wikipedia para obtener más información sobre el tema.\"\n",
    "    ),\n",
    "    Tool(\n",
    "        name=\"Sentiment Analysis\",\n",
    "        func=sentiment_analysis,\n",
    "        description=\"Analiza el sentimiento de un texto.\"\n",
    "    ),\n",
    "    Tool(\n",
    "        name=\"Math Tool\",\n",
    "        func=math_tool,\n",
    "        description=\"Resuelve cálculos matemáticos simples, por ejemplo, 2+2.\"\n",
    "    ),\n",
    "    Tool(\n",
    "        name=\"Filter by Dates\",\n",
    "        func=lambda query: filter_by_dates(query['start_date'], query['end_date']),\n",
    "        description=\"Filtra noticias por un rango de fechas.\"\n",
    "    ),\n",
    "    Tool(\n",
    "        name=\"Count People Mentions\",\n",
    "        func=lambda query: count_people_mentions(query['news_list']),\n",
    "        description=\"Cuenta las menciones de personas en una lista de noticias.\"\n",
    "    ),\n",
    "    Tool(\n",
    "        name=\"Filter News by Person\",\n",
    "        func=lambda query: filter_news_by_person(query['news_list'], query['person_name']),\n",
    "        description=\"Filtra las noticias que mencionan a una persona específica.\"\n",
    "    ),\n",
    "    Tool(\n",
    "        name=\"Extract Personal Data from News\",\n",
    "        func=lambda query: extract_personal_data_from_news(query['news_list'], query['person_name']),\n",
    "        description=\"Extrae datos personales de una persona a partir de noticias.\"\n",
    "    )\n",
    "]"
   ]
  },
  {
   "cell_type": "code",
   "execution_count": 61,
   "metadata": {},
   "outputs": [],
   "source": [
    "# Paso 5: Configurar el agente Langchain\n",
    "prompt_template = \"\"\"\n",
    "Eres un agente avanzado que puede interactuar con herramientas para obtener información y realizar tareas. \n",
    "Tienes acceso a las siguientes herramientas:\n",
    "\n",
    "1. **ChromaDB Search**: Busca en una base de datos de documentos para obtener información relevante.\n",
    "2. **Wikipedia Search**: Realiza una consulta a Wikipedia para obtener un resumen de un tema.\n",
    "3. **Sentiment Analysis**: Analiza el sentimiento de un texto (positivo, negativo, neutral).\n",
    "4. **Math Tool**: Resuelve cálculos matemáticos simples.\n",
    "5. **Filter by Dates**: Filtra noticias por un rango de fechas.\n",
    "6. **Count People Mentions**: Cuenta las menciones de personas en una lista de noticias.\n",
    "7. **Filter News by Person**: Filtra las noticias que mencionan a una persona específica.\n",
    "8. **Extract Personal Data from News**: Extrae datos personales de una persona a partir de noticias.\n",
    "\n",
    "Cuando recibas una pregunta, debes decidir qué herramienta usar y cómo responder de manera concisa y precisa. \n",
    "Asegúrate de considerar el contexto y usar las herramientas de manera inteligente.\n",
    "\"\"\"\n",
    "# Crear el PromptTemplate\n",
    "prompt = PromptTemplate(input_variables=[\"tools\", \"query\", \"agent_scratchpad\", \"tool_names\"], template=prompt_template)\n",
    "\n",
    "llm = OpenAI(api_key=OPENAI_API_KEY)\n",
    "# Crear el agente React usando `initialize_agent`\n",
    "agent = initialize_agent(\n",
    "    tools=tools,\n",
    "    llm=llm,\n",
    "    agent_type=AgentType.ZERO_SHOT_REACT_DESCRIPTION,\n",
    "    verbose=True\n",
    ")"
   ]
  },
  {
   "cell_type": "code",
   "execution_count": 63,
   "metadata": {},
   "outputs": [
    {
     "name": "stderr",
     "output_type": "stream",
     "text": [
      "Error in StdOutCallbackHandler.on_chain_start callback: AttributeError(\"'NoneType' object has no attribute 'get'\")\n"
     ]
    },
    {
     "name": "stdout",
     "output_type": "stream",
     "text": [
      "\u001b[32;1m\u001b[1;3m I should use Wikipedia Search to find more information about Juan Carlos Jobet and then use ChromaDB Search to find the relevant photo.\n",
      "Action: Wikipedia Search\n",
      "Action Input: Juan Carlos Jobet\u001b[0m\n",
      "Observation: \u001b[33;1m\u001b[1;3m<p><b>Juan Carlos Jobet Eluchans</b> (Santiago, 14 de octubre de 1975) es un ingeniero comercial y político chileno. Se desempeñó como ministro de Energía desde junio de 2019, y como ministro de Minería desde diciembre de 2020, asumiendo simultáneamente ambos cargos como biministro de Estado de su país hasta marzo de 2022, bajo el segundo gobierno del presidente Sebastián Piñera. Entre julio de 2013 y marzo de 2014 ejerció como ministro del Trabajo y Previsión Social, durante el primer gobierno de Piñera.\n",
      "</p>\u001b[0m\n",
      "Thought:\u001b[32;1m\u001b[1;3m Now I should use ChromaDB Search to find the relevant photo from the information I found on Wikipedia.\n",
      "Action: ChromaDB Search\n",
      "Action Input: Juan Carlos Jobet photo\u001b[0m\n",
      "Observation: \u001b[36;1m\u001b[1;3m{'date': 'Jul 6, 2023 @ 20:00:00.000', 'media_outlet': 'lanacion', 'url': 'https://www.lanacion.cl/jobet-hidrogeno-verde-puede-ser-mas-grande-que-el-litio-y-que-el-cobre/'}\n",
      "Jobet: “Hidrógeno verde puede ser más grande que el litio y que el cobre”  El exbiministro de Energía y Minería durante el segundo gobierno de Sebastián Piñera, Juan Carlos Jobet, explicó lo que será el Comité Estratégico de Hidrógeno Verde , encuentro que buscará establecer una hoja de ruta para el despliegue de la industria sostenible del hidrógeno verde.  Los integrantes del comité fueron dados a conocer este jueves por el Gobierno, entre los que destacan la expresidenta Michelle Bachelet , e\n",
      "{'date': 'Jul 6, 2023 @ 20:00:00.000', 'media_outlet': 'lanacion', 'url': 'https://www.lanacion.cl/jobet-hidrogeno-verde-puede-ser-mas-grande-que-el-litio-y-que-el-cobre/'}\n",
      "Jobet: “Hidrógeno verde puede ser más grande que el litio y que el cobre”  El exbiministro de Energía y Minería durante el segundo gobierno de Sebastián Piñera, Juan Carlos Jobet, explicó lo que será el Comité Estratégico de Hidrógeno Verde , encuentro que buscará establecer una hoja de ruta para el despliegue de la industria sostenible del hidrógeno verde.  Los integrantes del comité fueron dados a conocer este jueves por el Gobierno, entre los que destacan la expresidenta Michelle Bachelet , e\n",
      "{'date': 'Jul 6, 2023 @ 20:00:00.000', 'media_outlet': 'lanacion', 'url': 'https://www.lanacion.cl/jobet-hidrogeno-verde-puede-ser-mas-grande-que-el-litio-y-que-el-cobre/'}\n",
      "Jobet: “Hidrógeno verde puede ser más grande que el litio y que el cobre”  El exbiministro de Energía y Minería durante el segundo gobierno de Sebastián Piñera, Juan Carlos Jobet, explicó lo que será el Comité Estratégico de Hidrógeno Verde , encuentro que buscará establecer una hoja de ruta para el despliegue de la industria sostenible del hidrógeno verde.  Los integrantes del comité fueron dados a conocer este jueves por el Gobierno, entre los que destacan la expresidenta Michelle Bachelet , e\u001b[0m\n",
      "Thought:\u001b[32;1m\u001b[1;3m I now know the final answer.\n",
      "Final Answer: https://www.lanacion.cl/jobet-hidrogeno-verde-puede-ser-mas-grande-que-el-litio-y-que-el-cobre/\u001b[0m\n",
      "\n",
      "\u001b[1m> Finished chain.\u001b[0m\n",
      "{'input': 'Dame el enlace de una foto de Juan Carlos Jobet', 'output': 'https://www.lanacion.cl/jobet-hidrogeno-verde-puede-ser-mas-grande-que-el-litio-y-que-el-cobre/'}\n"
     ]
    }
   ],
   "source": [
    "# Paso 6: Probar el agente\n",
    "query = \"Dame el enlace de una foto de Juan Carlos Jobet\"\n",
    "\n",
    "\n",
    "response = agent.invoke(query)\n",
    "print(response)\n",
    "    \n"
   ]
  },
  {
   "cell_type": "code",
   "execution_count": null,
   "metadata": {},
   "outputs": [],
   "source": []
  }
 ],
 "metadata": {
  "kernelspec": {
   "display_name": "nlp",
   "language": "python",
   "name": "python3"
  },
  "language_info": {
   "codemirror_mode": {
    "name": "ipython",
    "version": 3
   },
   "file_extension": ".py",
   "mimetype": "text/x-python",
   "name": "python",
   "nbconvert_exporter": "python",
   "pygments_lexer": "ipython3",
   "version": "3.8.20"
  }
 },
 "nbformat": 4,
 "nbformat_minor": 2
}
